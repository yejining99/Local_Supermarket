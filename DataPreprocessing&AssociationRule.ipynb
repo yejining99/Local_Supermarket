{
 "cells": [
  {
   "cell_type": "markdown",
   "metadata": {},
   "source": [
    "## 파일이름 list로 가져오기"
   ]
  },
  {
   "cell_type": "code",
   "execution_count": 1,
   "metadata": {},
   "outputs": [],
   "source": [
    "import os\n",
    "path_directory = './판매 데이터'\n",
    "file_list = os.listdir(path_directory)"
   ]
  },
  {
   "cell_type": "code",
   "execution_count": 2,
   "metadata": {},
   "outputs": [],
   "source": [
    "df=file_list[4:-1]"
   ]
  },
  {
   "cell_type": "code",
   "execution_count": 3,
   "metadata": {},
   "outputs": [
    {
     "data": {
      "text/plain": [
       "975"
      ]
     },
     "execution_count": 3,
     "metadata": {},
     "output_type": "execute_result"
    }
   ],
   "source": [
    "len(df)"
   ]
  },
  {
   "cell_type": "markdown",
   "metadata": {},
   "source": [
    "## dataframe 으로 합치기"
   ]
  },
  {
   "cell_type": "code",
   "execution_count": 4,
   "metadata": {},
   "outputs": [],
   "source": [
    "import pandas as pd\n",
    "import numpy as np\n",
    "import xlrd"
   ]
  },
  {
   "cell_type": "code",
   "execution_count": 5,
   "metadata": {},
   "outputs": [],
   "source": [
    "workbook = xlrd.open_workbook(\"거래내역서.xls\", encoding_override=\"cp949\")\n",
    "worksheet = workbook.sheet_by_index(0)\n",
    "\n",
    "rows = worksheet.nrows\n",
    "data = []"
   ]
  },
  {
   "cell_type": "code",
   "execution_count": 6,
   "metadata": {},
   "outputs": [],
   "source": [
    "for i in range(rows) :\n",
    "    data.append(worksheet.row_values(i))"
   ]
  },
  {
   "cell_type": "code",
   "execution_count": 7,
   "metadata": {},
   "outputs": [],
   "source": [
    "data_1=pd.DataFrame(data)\n",
    "data_2=data_1.rename(columns=data_1.iloc[0])\n",
    "data_3 = data_2.drop(data_2.index[0])\n",
    "data_ = data_3.drop(data_3.index[-1])\n",
    "data_['No']=1"
   ]
  },
  {
   "cell_type": "code",
   "execution_count": 8,
   "metadata": {},
   "outputs": [
    {
     "data": {
      "text/html": [
       "<div>\n",
       "<style scoped>\n",
       "    .dataframe tbody tr th:only-of-type {\n",
       "        vertical-align: middle;\n",
       "    }\n",
       "\n",
       "    .dataframe tbody tr th {\n",
       "        vertical-align: top;\n",
       "    }\n",
       "\n",
       "    .dataframe thead th {\n",
       "        text-align: right;\n",
       "    }\n",
       "</style>\n",
       "<table border=\"1\" class=\"dataframe\">\n",
       "  <thead>\n",
       "    <tr style=\"text-align: right;\">\n",
       "      <th></th>\n",
       "      <th>No</th>\n",
       "      <th>상품명</th>\n",
       "      <th>바코드</th>\n",
       "      <th>단가</th>\n",
       "      <th>수량</th>\n",
       "      <th>할인</th>\n",
       "      <th>금액</th>\n",
       "      <th>상품포인트</th>\n",
       "      <th>매출원가</th>\n",
       "      <th>비고</th>\n",
       "    </tr>\n",
       "  </thead>\n",
       "  <tbody>\n",
       "    <tr>\n",
       "      <th>1</th>\n",
       "      <td>1</td>\n",
       "      <td>댓골두부찌개용300g</td>\n",
       "      <td>8808330161130</td>\n",
       "      <td>1000</td>\n",
       "      <td>2</td>\n",
       "      <td>0</td>\n",
       "      <td>2000</td>\n",
       "      <td>5</td>\n",
       "      <td>1600</td>\n",
       "      <td></td>\n",
       "    </tr>\n",
       "    <tr>\n",
       "      <th>2</th>\n",
       "      <td>1</td>\n",
       "      <td>남양맛있는우유GT기획</td>\n",
       "      <td>8801069221397</td>\n",
       "      <td>4500</td>\n",
       "      <td>1</td>\n",
       "      <td>0</td>\n",
       "      <td>4500</td>\n",
       "      <td>13</td>\n",
       "      <td>3900</td>\n",
       "      <td></td>\n",
       "    </tr>\n",
       "    <tr>\n",
       "      <th>3</th>\n",
       "      <td>1</td>\n",
       "      <td>한돈(앞다리살)찌개용</td>\n",
       "      <td>209175</td>\n",
       "      <td>5615</td>\n",
       "      <td>1</td>\n",
       "      <td>0</td>\n",
       "      <td>5615</td>\n",
       "      <td>16</td>\n",
       "      <td>0</td>\n",
       "      <td></td>\n",
       "    </tr>\n",
       "    <tr>\n",
       "      <th>4</th>\n",
       "      <td>1</td>\n",
       "      <td>왓따콜라</td>\n",
       "      <td>8801062321773</td>\n",
       "      <td>400</td>\n",
       "      <td>2</td>\n",
       "      <td>0</td>\n",
       "      <td>800</td>\n",
       "      <td>2</td>\n",
       "      <td>568</td>\n",
       "      <td></td>\n",
       "    </tr>\n",
       "    <tr>\n",
       "      <th>5</th>\n",
       "      <td>1</td>\n",
       "      <td>바밤바</td>\n",
       "      <td>8809713220055</td>\n",
       "      <td>400</td>\n",
       "      <td>9</td>\n",
       "      <td>0</td>\n",
       "      <td>3600</td>\n",
       "      <td>10</td>\n",
       "      <td>2520</td>\n",
       "      <td></td>\n",
       "    </tr>\n",
       "    <tr>\n",
       "      <th>6</th>\n",
       "      <td>1</td>\n",
       "      <td>해태자유시간</td>\n",
       "      <td>8801019206818</td>\n",
       "      <td>800</td>\n",
       "      <td>3</td>\n",
       "      <td>0</td>\n",
       "      <td>2400</td>\n",
       "      <td>10</td>\n",
       "      <td>1579.8</td>\n",
       "      <td></td>\n",
       "    </tr>\n",
       "  </tbody>\n",
       "</table>\n",
       "</div>"
      ],
      "text/plain": [
       "   No          상품명            바코드    단가 수량 할인    금액 상품포인트    매출원가 비고\n",
       "1   1  댓골두부찌개용300g  8808330161130  1000  2  0  2000     5    1600   \n",
       "2   1  남양맛있는우유GT기획  8801069221397  4500  1  0  4500    13    3900   \n",
       "3   1  한돈(앞다리살)찌개용         209175  5615  1  0  5615    16       0   \n",
       "4   1         왓따콜라  8801062321773   400  2  0   800     2     568   \n",
       "5   1          바밤바  8809713220055   400  9  0  3600    10    2520   \n",
       "6   1       해태자유시간  8801019206818   800  3  0  2400    10  1579.8   "
      ]
     },
     "execution_count": 8,
     "metadata": {},
     "output_type": "execute_result"
    }
   ],
   "source": [
    "# 처음 인덱스 들어간 dataframe 생성\n",
    "data_"
   ]
  },
  {
   "cell_type": "code",
   "execution_count": 9,
   "metadata": {},
   "outputs": [],
   "source": [
    "# 추가로 dataframe 이어 붙이기\n",
    "cnt=0\n",
    "\n",
    "for i in df:\n",
    "    cnt +=1\n",
    "    \n",
    "    workbook = xlrd.open_workbook(i, encoding_override=\"cp949\")\n",
    "    worksheet = workbook.sheet_by_index(0)\n",
    "\n",
    "    rows = worksheet.nrows\n",
    "    data = []\n",
    "    \n",
    "    for j in range(rows):\n",
    "        data.append(worksheet.row_values(j))\n",
    "        \n",
    "        \n",
    "    data_1=pd.DataFrame(data)\n",
    "    data_2=data_1.rename(columns=data_1.iloc[0])\n",
    "    data_3 = data_2.drop(data_2.index[0])\n",
    "    data_4 = data_3.drop(data_3.index[-1])\n",
    "    data_4['No']=cnt\n",
    "    \n",
    "    data_ = pd.concat([data_,data_4])\n",
    "    "
   ]
  },
  {
   "cell_type": "code",
   "execution_count": 10,
   "metadata": {},
   "outputs": [
    {
     "data": {
      "text/html": [
       "<div>\n",
       "<style scoped>\n",
       "    .dataframe tbody tr th:only-of-type {\n",
       "        vertical-align: middle;\n",
       "    }\n",
       "\n",
       "    .dataframe tbody tr th {\n",
       "        vertical-align: top;\n",
       "    }\n",
       "\n",
       "    .dataframe thead th {\n",
       "        text-align: right;\n",
       "    }\n",
       "</style>\n",
       "<table border=\"1\" class=\"dataframe\">\n",
       "  <thead>\n",
       "    <tr style=\"text-align: right;\">\n",
       "      <th></th>\n",
       "      <th>No</th>\n",
       "      <th>상품명</th>\n",
       "      <th>바코드</th>\n",
       "      <th>단가</th>\n",
       "      <th>수량</th>\n",
       "      <th>할인</th>\n",
       "      <th>금액</th>\n",
       "      <th>상품포인트</th>\n",
       "      <th>매출원가</th>\n",
       "      <th>비고</th>\n",
       "    </tr>\n",
       "  </thead>\n",
       "  <tbody>\n",
       "    <tr>\n",
       "      <th>1</th>\n",
       "      <td>1</td>\n",
       "      <td>댓골두부찌개용300g</td>\n",
       "      <td>8808330161130</td>\n",
       "      <td>1000</td>\n",
       "      <td>2</td>\n",
       "      <td>0</td>\n",
       "      <td>2000</td>\n",
       "      <td>5</td>\n",
       "      <td>1600</td>\n",
       "      <td></td>\n",
       "    </tr>\n",
       "    <tr>\n",
       "      <th>2</th>\n",
       "      <td>1</td>\n",
       "      <td>남양맛있는우유GT기획</td>\n",
       "      <td>8801069221397</td>\n",
       "      <td>4500</td>\n",
       "      <td>1</td>\n",
       "      <td>0</td>\n",
       "      <td>4500</td>\n",
       "      <td>13</td>\n",
       "      <td>3900</td>\n",
       "      <td></td>\n",
       "    </tr>\n",
       "    <tr>\n",
       "      <th>3</th>\n",
       "      <td>1</td>\n",
       "      <td>한돈(앞다리살)찌개용</td>\n",
       "      <td>209175</td>\n",
       "      <td>5615</td>\n",
       "      <td>1</td>\n",
       "      <td>0</td>\n",
       "      <td>5615</td>\n",
       "      <td>16</td>\n",
       "      <td>0</td>\n",
       "      <td></td>\n",
       "    </tr>\n",
       "    <tr>\n",
       "      <th>4</th>\n",
       "      <td>1</td>\n",
       "      <td>왓따콜라</td>\n",
       "      <td>8801062321773</td>\n",
       "      <td>400</td>\n",
       "      <td>2</td>\n",
       "      <td>0</td>\n",
       "      <td>800</td>\n",
       "      <td>2</td>\n",
       "      <td>568</td>\n",
       "      <td></td>\n",
       "    </tr>\n",
       "    <tr>\n",
       "      <th>5</th>\n",
       "      <td>1</td>\n",
       "      <td>바밤바</td>\n",
       "      <td>8809713220055</td>\n",
       "      <td>400</td>\n",
       "      <td>9</td>\n",
       "      <td>0</td>\n",
       "      <td>3600</td>\n",
       "      <td>10</td>\n",
       "      <td>2520</td>\n",
       "      <td></td>\n",
       "    </tr>\n",
       "    <tr>\n",
       "      <th>...</th>\n",
       "      <td>...</td>\n",
       "      <td>...</td>\n",
       "      <td>...</td>\n",
       "      <td>...</td>\n",
       "      <td>...</td>\n",
       "      <td>...</td>\n",
       "      <td>...</td>\n",
       "      <td>...</td>\n",
       "      <td>...</td>\n",
       "      <td>...</td>\n",
       "    </tr>\n",
       "    <tr>\n",
       "      <th>4</th>\n",
       "      <td>975</td>\n",
       "      <td>농심쌀새우깡80g</td>\n",
       "      <td>8801043036054</td>\n",
       "      <td>1150</td>\n",
       "      <td>1</td>\n",
       "      <td>0</td>\n",
       "      <td>1150</td>\n",
       "      <td>3</td>\n",
       "      <td>850</td>\n",
       "      <td></td>\n",
       "    </tr>\n",
       "    <tr>\n",
       "      <th>5</th>\n",
       "      <td>975</td>\n",
       "      <td>농심양파깡77g</td>\n",
       "      <td>8801043036498</td>\n",
       "      <td>1300</td>\n",
       "      <td>1</td>\n",
       "      <td>0</td>\n",
       "      <td>1300</td>\n",
       "      <td>3</td>\n",
       "      <td>965</td>\n",
       "      <td></td>\n",
       "    </tr>\n",
       "    <tr>\n",
       "      <th>6</th>\n",
       "      <td>975</td>\n",
       "      <td>농심매운새우깡90g</td>\n",
       "      <td>8801043036078</td>\n",
       "      <td>1150</td>\n",
       "      <td>1</td>\n",
       "      <td>0</td>\n",
       "      <td>1150</td>\n",
       "      <td>3</td>\n",
       "      <td>850</td>\n",
       "      <td></td>\n",
       "    </tr>\n",
       "    <tr>\n",
       "      <th>7</th>\n",
       "      <td>975</td>\n",
       "      <td>재사용봉투10리터</td>\n",
       "      <td>9144539122350</td>\n",
       "      <td>310</td>\n",
       "      <td>1</td>\n",
       "      <td>0</td>\n",
       "      <td>310</td>\n",
       "      <td>0</td>\n",
       "      <td>285</td>\n",
       "      <td></td>\n",
       "    </tr>\n",
       "    <tr>\n",
       "      <th>8</th>\n",
       "      <td>975</td>\n",
       "      <td>밀크플러스900ml*2</td>\n",
       "      <td>8806371306381</td>\n",
       "      <td>2980</td>\n",
       "      <td>1</td>\n",
       "      <td>0</td>\n",
       "      <td>2980</td>\n",
       "      <td>13</td>\n",
       "      <td>2500</td>\n",
       "      <td></td>\n",
       "    </tr>\n",
       "  </tbody>\n",
       "</table>\n",
       "<p>3772 rows × 10 columns</p>\n",
       "</div>"
      ],
      "text/plain": [
       "     No           상품명            바코드    단가 수량 할인    금액 상품포인트  매출원가 비고\n",
       "1     1   댓골두부찌개용300g  8808330161130  1000  2  0  2000     5  1600   \n",
       "2     1   남양맛있는우유GT기획  8801069221397  4500  1  0  4500    13  3900   \n",
       "3     1   한돈(앞다리살)찌개용         209175  5615  1  0  5615    16     0   \n",
       "4     1          왓따콜라  8801062321773   400  2  0   800     2   568   \n",
       "5     1           바밤바  8809713220055   400  9  0  3600    10  2520   \n",
       "..  ...           ...            ...   ... .. ..   ...   ...   ... ..\n",
       "4   975     농심쌀새우깡80g  8801043036054  1150  1  0  1150     3   850   \n",
       "5   975      농심양파깡77g  8801043036498  1300  1  0  1300     3   965   \n",
       "6   975    농심매운새우깡90g  8801043036078  1150  1  0  1150     3   850   \n",
       "7   975     재사용봉투10리터  9144539122350   310  1  0   310     0   285   \n",
       "8   975  밀크플러스900ml*2  8806371306381  2980  1  0  2980    13  2500   \n",
       "\n",
       "[3772 rows x 10 columns]"
      ]
     },
     "execution_count": 10,
     "metadata": {},
     "output_type": "execute_result"
    }
   ],
   "source": [
    "data_"
   ]
  },
  {
   "cell_type": "code",
   "execution_count": 11,
   "metadata": {},
   "outputs": [],
   "source": [
    "data_=data_.reset_index(drop=True)"
   ]
  },
  {
   "cell_type": "markdown",
   "metadata": {},
   "source": [
    "## 한글만 추출하고 list로 변환"
   ]
  },
  {
   "cell_type": "code",
   "execution_count": 12,
   "metadata": {},
   "outputs": [],
   "source": [
    "import re\n",
    "hangul = re.compile('[^ ㄱ-ㅣ가-힣]+')"
   ]
  },
  {
   "cell_type": "code",
   "execution_count": 13,
   "metadata": {},
   "outputs": [
    {
     "name": "stderr",
     "output_type": "stream",
     "text": [
      "C:\\Users\\USER\\anaconda3\\lib\\site-packages\\pandas\\core\\indexing.py:670: SettingWithCopyWarning: \n",
      "A value is trying to be set on a copy of a slice from a DataFrame\n",
      "\n",
      "See the caveats in the documentation: https://pandas.pydata.org/pandas-docs/stable/user_guide/indexing.html#returning-a-view-versus-a-copy\n",
      "  iloc._setitem_with_indexer(indexer, value)\n"
     ]
    }
   ],
   "source": [
    "row_num = len(data_)\n",
    "\n",
    "for i in range(row_num):\n",
    "    data_[\"상품명\"].iloc[i] = ''.join([j for j in data_[\"상품명\"].iloc[i] if not j.isdigit()])\n",
    "    data_[\"상품명\"].iloc[i] = ''.join(char for char in data_[\"상품명\"].iloc[i] if char.isalnum())\n",
    "    data_[\"상품명\"].iloc[i] = hangul.sub('',data_[\"상품명\"].iloc[i])"
   ]
  },
  {
   "cell_type": "code",
   "execution_count": 14,
   "metadata": {},
   "outputs": [
    {
     "data": {
      "text/plain": [
       "0         댓골두부찌개용\n",
       "1       남양맛있는우유기획\n",
       "2       한돈앞다리살찌개용\n",
       "3            왓따콜라\n",
       "4             바밤바\n",
       "          ...    \n",
       "3767       농심쌀새우깡\n",
       "3768        농심양파깡\n",
       "3769      농심매운새우깡\n",
       "3770      재사용봉투리터\n",
       "3771        밀크플러스\n",
       "Name: 상품명, Length: 3772, dtype: object"
      ]
     },
     "execution_count": 14,
     "metadata": {},
     "output_type": "execute_result"
    }
   ],
   "source": [
    "data_[\"상품명\"]"
   ]
  },
  {
   "cell_type": "code",
   "execution_count": 15,
   "metadata": {},
   "outputs": [],
   "source": [
    "data=data_[['No','상품명']]"
   ]
  },
  {
   "cell_type": "code",
   "execution_count": 16,
   "metadata": {},
   "outputs": [
    {
     "data": {
      "text/html": [
       "<div>\n",
       "<style scoped>\n",
       "    .dataframe tbody tr th:only-of-type {\n",
       "        vertical-align: middle;\n",
       "    }\n",
       "\n",
       "    .dataframe tbody tr th {\n",
       "        vertical-align: top;\n",
       "    }\n",
       "\n",
       "    .dataframe thead th {\n",
       "        text-align: right;\n",
       "    }\n",
       "</style>\n",
       "<table border=\"1\" class=\"dataframe\">\n",
       "  <thead>\n",
       "    <tr style=\"text-align: right;\">\n",
       "      <th></th>\n",
       "      <th>No</th>\n",
       "      <th>상품명</th>\n",
       "    </tr>\n",
       "  </thead>\n",
       "  <tbody>\n",
       "    <tr>\n",
       "      <th>0</th>\n",
       "      <td>1</td>\n",
       "      <td>댓골두부찌개용</td>\n",
       "    </tr>\n",
       "    <tr>\n",
       "      <th>1</th>\n",
       "      <td>1</td>\n",
       "      <td>남양맛있는우유기획</td>\n",
       "    </tr>\n",
       "    <tr>\n",
       "      <th>2</th>\n",
       "      <td>1</td>\n",
       "      <td>한돈앞다리살찌개용</td>\n",
       "    </tr>\n",
       "    <tr>\n",
       "      <th>3</th>\n",
       "      <td>1</td>\n",
       "      <td>왓따콜라</td>\n",
       "    </tr>\n",
       "    <tr>\n",
       "      <th>4</th>\n",
       "      <td>1</td>\n",
       "      <td>바밤바</td>\n",
       "    </tr>\n",
       "    <tr>\n",
       "      <th>...</th>\n",
       "      <td>...</td>\n",
       "      <td>...</td>\n",
       "    </tr>\n",
       "    <tr>\n",
       "      <th>3767</th>\n",
       "      <td>975</td>\n",
       "      <td>농심쌀새우깡</td>\n",
       "    </tr>\n",
       "    <tr>\n",
       "      <th>3768</th>\n",
       "      <td>975</td>\n",
       "      <td>농심양파깡</td>\n",
       "    </tr>\n",
       "    <tr>\n",
       "      <th>3769</th>\n",
       "      <td>975</td>\n",
       "      <td>농심매운새우깡</td>\n",
       "    </tr>\n",
       "    <tr>\n",
       "      <th>3770</th>\n",
       "      <td>975</td>\n",
       "      <td>재사용봉투리터</td>\n",
       "    </tr>\n",
       "    <tr>\n",
       "      <th>3771</th>\n",
       "      <td>975</td>\n",
       "      <td>밀크플러스</td>\n",
       "    </tr>\n",
       "  </tbody>\n",
       "</table>\n",
       "<p>3772 rows × 2 columns</p>\n",
       "</div>"
      ],
      "text/plain": [
       "       No        상품명\n",
       "0       1    댓골두부찌개용\n",
       "1       1  남양맛있는우유기획\n",
       "2       1  한돈앞다리살찌개용\n",
       "3       1       왓따콜라\n",
       "4       1        바밤바\n",
       "...   ...        ...\n",
       "3767  975     농심쌀새우깡\n",
       "3768  975      농심양파깡\n",
       "3769  975    농심매운새우깡\n",
       "3770  975    재사용봉투리터\n",
       "3771  975      밀크플러스\n",
       "\n",
       "[3772 rows x 2 columns]"
      ]
     },
     "execution_count": 16,
     "metadata": {},
     "output_type": "execute_result"
    }
   ],
   "source": [
    "data"
   ]
  },
  {
   "cell_type": "code",
   "execution_count": 17,
   "metadata": {},
   "outputs": [
    {
     "data": {
      "text/plain": [
       "98"
      ]
     },
     "execution_count": 17,
     "metadata": {},
     "output_type": "execute_result"
    }
   ],
   "source": [
    "item=['다시다','만두','교자','떡볶이','하림','두유','빙그레','크라운','롯데','농심','해태','오리온','칩','땅콩', '치약', '간장', '봉투', '우유', \n",
    "      '무','양파', '된장', '탕', '육개장', '라면', '너구리','짜파게티','테라', '참이슬','처음처럼', '하이트','카스', '필라이트', '애호박', '대파', '어묵', \n",
    "      '딸기', '란', '물티슈','소성주','막걸리' '나물', '두부', '고추', '오이', '마늘', '콜라', '사이다','환타','델몬트','당근', '배추', '고등어', \n",
    "      '한우', '버섯', '상추', '삼다수','백산수','삼겹살', '쪽파', '콩나물', '목전지','한돈','목살','주물럭', '맥주', '귤', '망고', '오징어', '치즈', '토마토','미역','액젓',\n",
    "      '가루','소스','롤','삼호','매일','햄','웅진','비피더스','식초','카레','짜장','비누','비엔나','샴푸','국수','올리브유',\n",
    "      '포도씨유','식용유','빵','팔도','볶음면','기름','밀크플러스','찹쌀','햅쌀','등심','김치']\n",
    "len(item)\n",
    "\n",
    "\n",
    "# 추가 정보\n",
    "\n",
    "# 삼호: 어묵류\n",
    "# 매일 : 요플레. 휘핑크림 류\n",
    "# 웅진 : 음료류\n",
    "# 팔도 : 컵라면\n",
    "# 롤 : 휴지"
   ]
  },
  {
   "cell_type": "code",
   "execution_count": 18,
   "metadata": {},
   "outputs": [
    {
     "name": "stderr",
     "output_type": "stream",
     "text": [
      "C:\\Users\\USER\\anaconda3\\lib\\site-packages\\pandas\\core\\indexing.py:670: SettingWithCopyWarning: \n",
      "A value is trying to be set on a copy of a slice from a DataFrame\n",
      "\n",
      "See the caveats in the documentation: https://pandas.pydata.org/pandas-docs/stable/user_guide/indexing.html#returning-a-view-versus-a-copy\n",
      "  iloc._setitem_with_indexer(indexer, value)\n",
      "<ipython-input-18-85d850f785f8>:4: SettingWithCopyWarning: \n",
      "A value is trying to be set on a copy of a slice from a DataFrame\n",
      "\n",
      "See the caveats in the documentation: https://pandas.pydata.org/pandas-docs/stable/user_guide/indexing.html#returning-a-view-versus-a-copy\n",
      "  data['상품명'].loc[data['상품명'].str.contains(item[t])] = item[t]\n"
     ]
    }
   ],
   "source": [
    "idx=[]\n",
    "\n",
    "for t in range(98):\n",
    "    data['상품명'].loc[data['상품명'].str.contains(item[t])] = item[t]\n",
    "    idx.extend(data['상품명'].loc[data['상품명'].str.contains(item[t])].index)"
   ]
  },
  {
   "cell_type": "code",
   "execution_count": 19,
   "metadata": {},
   "outputs": [
    {
     "name": "stderr",
     "output_type": "stream",
     "text": [
      "C:\\Users\\USER\\anaconda3\\lib\\site-packages\\pandas\\core\\indexing.py:1765: SettingWithCopyWarning: \n",
      "A value is trying to be set on a copy of a slice from a DataFrame.\n",
      "Try using .loc[row_indexer,col_indexer] = value instead\n",
      "\n",
      "See the caveats in the documentation: https://pandas.pydata.org/pandas-docs/stable/user_guide/indexing.html#returning-a-view-versus-a-copy\n",
      "  isetter(loc, value)\n"
     ]
    }
   ],
   "source": [
    "# 제과류 묶기\n",
    "\n",
    "data.loc[data.상품명==\"빙그레\", '상품명'] = '제과류'\n",
    "data.loc[data.상품명==\"크라운\", '상품명'] = '제과류'\n",
    "data.loc[data.상품명==\"롯데\", '상품명'] = '제과류'\n",
    "data.loc[data.상품명==\"농심\", '상품명'] = '제과류'\n",
    "data.loc[data.상품명==\"해태\", '상품명'] = '제과류'\n",
    "data.loc[data.상품명==\"오리온\", '상품명'] = '제과류'\n",
    "data.loc[data.상품명==\"빵\", '상품명'] = '제과류'\n",
    "data.loc[data.상품명==\"칩\", '상품명'] = '제과류'\n",
    "\n",
    "# 음료 묶기\n",
    "\n",
    "data.loc[data.상품명==\"두유\", '상품명'] = '우유'\n",
    "data.loc[data.상품명==\"밀크플러스\", '상품명'] = '우유'\n",
    "\n",
    "data.loc[data.상품명==\"백산수\", '상품명'] = '음료'\n",
    "data.loc[data.상품명==\"삼다수\", '상품명'] = '음료'\n",
    "\n",
    "data.loc[data.상품명==\"콜라\", '상품명'] = '음료'\n",
    "data.loc[data.상품명==\"사이다\", '상품명'] = '음료'\n",
    "data.loc[data.상품명==\"환타\", '상품명'] = '음료'\n",
    "data.loc[data.상품명==\"델몬트\", '상품명'] = '음료'\n",
    "data.loc[data.상품명==\"웅진\", '상품명'] = '음료'\n",
    "\n",
    "data.loc[data.상품명==\"테라\", '상품명'] = '맥주'\n",
    "data.loc[data.상품명==\"카스\", '상품명'] = '맥주'\n",
    "data.loc[data.상품명==\"필라이트\", '상품명'] = '맥주'\n",
    "data.loc[data.상품명==\"하이트\", '상품명'] = '맥주'\n",
    "\n",
    "data.loc[data.상품명==\"참이슬\", '상품명'] = '소주'\n",
    "data.loc[data.상품명==\"처음처럼\", '상품명'] = '소주'\n",
    "\n",
    "data.loc[data.상품명==\"소성주\", '상품명'] = '막걸리'\n",
    "\n",
    "# 나물 묶기\n",
    "\n",
    "data.loc[data.상품명==\"콩나물\", '상품명'] = '나물'\n",
    "\n",
    "# 식용유 묶기\n",
    "\n",
    "data.loc[data.상품명==\"올리브유\", '상품명'] = '기름'\n",
    "data.loc[data.상품명==\"포도씨유\", '상품명'] = '기름'\n",
    "data.loc[data.상품명==\"식용유\", '상품명'] = '기름'\n",
    "\n",
    "# 라면 묶기\n",
    "\n",
    "data.loc[data.상품명==\"팔도\", '상품명'] = '라면'\n",
    "data.loc[data.상품명==\"볶음면\", '상품명'] = '라면'\n",
    "data.loc[data.상품명==\"너구리\", '상품명'] = '라면'\n",
    "data.loc[data.상품명==\"짜파게티\", '상품명'] = '라면'\n",
    "\n",
    "# 쌀 묶기\n",
    "\n",
    "data.loc[data.상품명==\"찹쌀\", '상품명'] = '쌀'\n",
    "data.loc[data.상품명==\"햅쌀\", '상품명'] = '쌀'\n",
    "\n",
    "data.loc[data.상품명==\"교자\", '상품명'] = '만두'\n",
    "\n",
    "# 돼지고기 묶기\n",
    "\n",
    "data.loc[data.상품명==\"목전지\", '상품명'] = '돼지고기'\n",
    "data.loc[data.상품명==\"한돈\", '상품명'] = '돼지고기'\n",
    "data.loc[data.상품명==\"목살\", '상품명'] = '돼지고기'\n",
    "data.loc[data.상품명==\"주물럭\", '상품명'] = '돼지고기'"
   ]
  },
  {
   "cell_type": "code",
   "execution_count": 20,
   "metadata": {},
   "outputs": [
    {
     "name": "stderr",
     "output_type": "stream",
     "text": [
      "<ipython-input-20-6315e5c870ee>:1: SettingWithCopyWarning: \n",
      "A value is trying to be set on a copy of a slice from a DataFrame.\n",
      "Try using .loc[row_indexer,col_indexer] = value instead\n",
      "\n",
      "See the caveats in the documentation: https://pandas.pydata.org/pandas-docs/stable/user_guide/indexing.html#returning-a-view-versus-a-copy\n",
      "  data['수량'] = data_['수량']\n"
     ]
    }
   ],
   "source": [
    "data['수량'] = data_['수량']"
   ]
  },
  {
   "cell_type": "code",
   "execution_count": 25,
   "metadata": {},
   "outputs": [
    {
     "name": "stderr",
     "output_type": "stream",
     "text": [
      "<ipython-input-25-e9acbbe61acb>:1: SettingWithCopyWarning: \n",
      "A value is trying to be set on a copy of a slice from a DataFrame.\n",
      "Try using .loc[row_indexer,col_indexer] = value instead\n",
      "\n",
      "See the caveats in the documentation: https://pandas.pydata.org/pandas-docs/stable/user_guide/indexing.html#returning-a-view-versus-a-copy\n",
      "  data['원래이름']=data_[\"상품명\"]\n"
     ]
    }
   ],
   "source": [
    "data['원래이름']=data_[\"상품명\"]"
   ]
  },
  {
   "cell_type": "code",
   "execution_count": 26,
   "metadata": {},
   "outputs": [],
   "source": [
    "data.to_csv('판매데이터.csv', mode='w',encoding='euc-kr')"
   ]
  },
  {
   "cell_type": "code",
   "execution_count": 29,
   "metadata": {},
   "outputs": [
    {
     "ename": "AttributeError",
     "evalue": "'numpy.ndarray' object has no attribute 'to_dataframe'",
     "output_type": "error",
     "traceback": [
      "\u001b[1;31m---------------------------------------------------------------------------\u001b[0m",
      "\u001b[1;31mAttributeError\u001b[0m                            Traceback (most recent call last)",
      "\u001b[1;32m<ipython-input-29-6e0f3740927c>\u001b[0m in \u001b[0;36m<module>\u001b[1;34m\u001b[0m\n\u001b[1;32m----> 1\u001b[1;33m \u001b[0mdata\u001b[0m\u001b[1;33m[\u001b[0m\u001b[1;34m'상품명'\u001b[0m\u001b[1;33m]\u001b[0m\u001b[1;33m.\u001b[0m\u001b[0munique\u001b[0m\u001b[1;33m(\u001b[0m\u001b[1;33m)\u001b[0m\u001b[1;33m.\u001b[0m\u001b[0mto_dataframe\u001b[0m\u001b[1;33m(\u001b[0m\u001b[1;33m)\u001b[0m\u001b[1;33m\u001b[0m\u001b[1;33m\u001b[0m\u001b[0m\n\u001b[0m",
      "\u001b[1;31mAttributeError\u001b[0m: 'numpy.ndarray' object has no attribute 'to_dataframe'"
     ]
    }
   ],
   "source": [
    "data['상품명'].unique().to_dataframe()"
   ]
  },
  {
   "cell_type": "code",
   "execution_count": 31,
   "metadata": {},
   "outputs": [],
   "source": [
    "data_item_name=pd.DataFrame(data['상품명'].unique())"
   ]
  },
  {
   "cell_type": "code",
   "execution_count": 35,
   "metadata": {},
   "outputs": [],
   "source": [
    "data_item_name.to_csv('data_item_name.csv', mode='w',encoding='euc-kr')"
   ]
  },
  {
   "cell_type": "code",
   "execution_count": 48,
   "metadata": {},
   "outputs": [],
   "source": [
    "name = pd.read_csv('data_item_name.csv',encoding='euc-kr')"
   ]
  },
  {
   "cell_type": "code",
   "execution_count": 49,
   "metadata": {},
   "outputs": [
    {
     "data": {
      "text/html": [
       "<div>\n",
       "<style scoped>\n",
       "    .dataframe tbody tr th:only-of-type {\n",
       "        vertical-align: middle;\n",
       "    }\n",
       "\n",
       "    .dataframe tbody tr th {\n",
       "        vertical-align: top;\n",
       "    }\n",
       "\n",
       "    .dataframe thead th {\n",
       "        text-align: right;\n",
       "    }\n",
       "</style>\n",
       "<table border=\"1\" class=\"dataframe\">\n",
       "  <thead>\n",
       "    <tr style=\"text-align: right;\">\n",
       "      <th></th>\n",
       "      <th>Unnamed: 0</th>\n",
       "      <th>상품명</th>\n",
       "      <th>최종상품명</th>\n",
       "    </tr>\n",
       "  </thead>\n",
       "  <tbody>\n",
       "    <tr>\n",
       "      <th>0</th>\n",
       "      <td>0</td>\n",
       "      <td>두부</td>\n",
       "      <td>두부</td>\n",
       "    </tr>\n",
       "    <tr>\n",
       "      <th>1</th>\n",
       "      <td>1</td>\n",
       "      <td>우유</td>\n",
       "      <td>우유</td>\n",
       "    </tr>\n",
       "    <tr>\n",
       "      <th>2</th>\n",
       "      <td>2</td>\n",
       "      <td>돼지고기</td>\n",
       "      <td>돼지고기</td>\n",
       "    </tr>\n",
       "    <tr>\n",
       "      <th>3</th>\n",
       "      <td>3</td>\n",
       "      <td>음료</td>\n",
       "      <td>음료</td>\n",
       "    </tr>\n",
       "    <tr>\n",
       "      <th>4</th>\n",
       "      <td>4</td>\n",
       "      <td>바밤바</td>\n",
       "      <td>아이스크림</td>\n",
       "    </tr>\n",
       "    <tr>\n",
       "      <th>...</th>\n",
       "      <td>...</td>\n",
       "      <td>...</td>\n",
       "      <td>...</td>\n",
       "    </tr>\n",
       "    <tr>\n",
       "      <th>639</th>\n",
       "      <td>639</td>\n",
       "      <td>건호박국내산</td>\n",
       "      <td>호박</td>\n",
       "    </tr>\n",
       "    <tr>\n",
       "      <th>640</th>\n",
       "      <td>640</td>\n",
       "      <td>번개</td>\n",
       "      <td>번개</td>\n",
       "    </tr>\n",
       "    <tr>\n",
       "      <th>641</th>\n",
       "      <td>641</td>\n",
       "      <td>돈나물</td>\n",
       "      <td>나물</td>\n",
       "    </tr>\n",
       "    <tr>\n",
       "      <th>642</th>\n",
       "      <td>642</td>\n",
       "      <td>립톤아이스티레몬</td>\n",
       "      <td>음료</td>\n",
       "    </tr>\n",
       "    <tr>\n",
       "      <th>643</th>\n",
       "      <td>643</td>\n",
       "      <td>썬라이트포도향</td>\n",
       "      <td>음료</td>\n",
       "    </tr>\n",
       "  </tbody>\n",
       "</table>\n",
       "<p>644 rows × 3 columns</p>\n",
       "</div>"
      ],
      "text/plain": [
       "     Unnamed: 0       상품명  최종상품명\n",
       "0             0        두부     두부\n",
       "1             1        우유     우유\n",
       "2             2      돼지고기   돼지고기\n",
       "3             3        음료     음료\n",
       "4             4       바밤바  아이스크림\n",
       "..          ...       ...    ...\n",
       "639         639    건호박국내산     호박\n",
       "640         640        번개     번개\n",
       "641         641       돈나물     나물\n",
       "642         642  립톤아이스티레몬     음료\n",
       "643         643   썬라이트포도향     음료\n",
       "\n",
       "[644 rows x 3 columns]"
      ]
     },
     "execution_count": 49,
     "metadata": {},
     "output_type": "execute_result"
    }
   ],
   "source": [
    "name"
   ]
  },
  {
   "cell_type": "code",
   "execution_count": 50,
   "metadata": {},
   "outputs": [
    {
     "data": {
      "text/html": [
       "<div>\n",
       "<style scoped>\n",
       "    .dataframe tbody tr th:only-of-type {\n",
       "        vertical-align: middle;\n",
       "    }\n",
       "\n",
       "    .dataframe tbody tr th {\n",
       "        vertical-align: top;\n",
       "    }\n",
       "\n",
       "    .dataframe thead th {\n",
       "        text-align: right;\n",
       "    }\n",
       "</style>\n",
       "<table border=\"1\" class=\"dataframe\">\n",
       "  <thead>\n",
       "    <tr style=\"text-align: right;\">\n",
       "      <th></th>\n",
       "      <th>No</th>\n",
       "      <th>상품명</th>\n",
       "      <th>수량</th>\n",
       "      <th>원래이름</th>\n",
       "    </tr>\n",
       "  </thead>\n",
       "  <tbody>\n",
       "    <tr>\n",
       "      <th>0</th>\n",
       "      <td>1</td>\n",
       "      <td>두부</td>\n",
       "      <td>2</td>\n",
       "      <td>댓골두부찌개용</td>\n",
       "    </tr>\n",
       "    <tr>\n",
       "      <th>1</th>\n",
       "      <td>1</td>\n",
       "      <td>우유</td>\n",
       "      <td>1</td>\n",
       "      <td>남양맛있는우유기획</td>\n",
       "    </tr>\n",
       "    <tr>\n",
       "      <th>2</th>\n",
       "      <td>1</td>\n",
       "      <td>돼지고기</td>\n",
       "      <td>1</td>\n",
       "      <td>한돈앞다리살찌개용</td>\n",
       "    </tr>\n",
       "    <tr>\n",
       "      <th>3</th>\n",
       "      <td>1</td>\n",
       "      <td>음료</td>\n",
       "      <td>2</td>\n",
       "      <td>왓따콜라</td>\n",
       "    </tr>\n",
       "    <tr>\n",
       "      <th>4</th>\n",
       "      <td>1</td>\n",
       "      <td>바밤바</td>\n",
       "      <td>9</td>\n",
       "      <td>바밤바</td>\n",
       "    </tr>\n",
       "    <tr>\n",
       "      <th>...</th>\n",
       "      <td>...</td>\n",
       "      <td>...</td>\n",
       "      <td>...</td>\n",
       "      <td>...</td>\n",
       "    </tr>\n",
       "    <tr>\n",
       "      <th>3766</th>\n",
       "      <td>975</td>\n",
       "      <td>에이스번들원</td>\n",
       "      <td>1</td>\n",
       "      <td>에이스번들원</td>\n",
       "    </tr>\n",
       "    <tr>\n",
       "      <th>3767</th>\n",
       "      <td>975</td>\n",
       "      <td>제과류</td>\n",
       "      <td>1</td>\n",
       "      <td>농심쌀새우깡</td>\n",
       "    </tr>\n",
       "    <tr>\n",
       "      <th>3768</th>\n",
       "      <td>975</td>\n",
       "      <td>제과류</td>\n",
       "      <td>1</td>\n",
       "      <td>농심양파깡</td>\n",
       "    </tr>\n",
       "    <tr>\n",
       "      <th>3769</th>\n",
       "      <td>975</td>\n",
       "      <td>제과류</td>\n",
       "      <td>1</td>\n",
       "      <td>농심매운새우깡</td>\n",
       "    </tr>\n",
       "    <tr>\n",
       "      <th>3771</th>\n",
       "      <td>975</td>\n",
       "      <td>우유</td>\n",
       "      <td>1</td>\n",
       "      <td>밀크플러스</td>\n",
       "    </tr>\n",
       "  </tbody>\n",
       "</table>\n",
       "<p>3537 rows × 4 columns</p>\n",
       "</div>"
      ],
      "text/plain": [
       "       No     상품명 수량       원래이름\n",
       "0       1      두부  2    댓골두부찌개용\n",
       "1       1      우유  1  남양맛있는우유기획\n",
       "2       1    돼지고기  1  한돈앞다리살찌개용\n",
       "3       1      음료  2       왓따콜라\n",
       "4       1     바밤바  9        바밤바\n",
       "...   ...     ... ..        ...\n",
       "3766  975  에이스번들원  1     에이스번들원\n",
       "3767  975     제과류  1     농심쌀새우깡\n",
       "3768  975     제과류  1      농심양파깡\n",
       "3769  975     제과류  1    농심매운새우깡\n",
       "3771  975      우유  1      밀크플러스\n",
       "\n",
       "[3537 rows x 4 columns]"
      ]
     },
     "execution_count": 50,
     "metadata": {},
     "output_type": "execute_result"
    }
   ],
   "source": [
    "data"
   ]
  },
  {
   "cell_type": "code",
   "execution_count": 51,
   "metadata": {},
   "outputs": [],
   "source": [
    "data=data.drop(data[data[\"상품명\"]==\"봉투\"].index)"
   ]
  },
  {
   "cell_type": "code",
   "execution_count": 52,
   "metadata": {},
   "outputs": [],
   "source": [
    "data = pd.merge(name,data,on='상품명')"
   ]
  },
  {
   "cell_type": "code",
   "execution_count": 54,
   "metadata": {},
   "outputs": [],
   "source": [
    "data = data[['No','원래이름','상품명','최종상품명','수량']]"
   ]
  },
  {
   "cell_type": "code",
   "execution_count": 55,
   "metadata": {},
   "outputs": [],
   "source": [
    "data.to_csv('기계학습응용 최종 데이터.csv', mode='w',encoding='euc-kr')"
   ]
  },
  {
   "cell_type": "code",
   "execution_count": null,
   "metadata": {},
   "outputs": [],
   "source": [
    "index=data.index.tolist()\n",
    "len(index)"
   ]
  },
  {
   "cell_type": "code",
   "execution_count": null,
   "metadata": {},
   "outputs": [],
   "source": [
    "len(idx)"
   ]
  },
  {
   "cell_type": "code",
   "execution_count": null,
   "metadata": {},
   "outputs": [],
   "source": [
    "idx_x=list(set(index)-set(idx))\n",
    "len(idx_x)"
   ]
  },
  {
   "cell_type": "code",
   "execution_count": null,
   "metadata": {},
   "outputs": [],
   "source": [
    "# item 아닌거 제거\n",
    "\n",
    "data=data.drop(index=idx_x)"
   ]
  },
  {
   "cell_type": "code",
   "execution_count": null,
   "metadata": {},
   "outputs": [],
   "source": [
    "data"
   ]
  },
  {
   "cell_type": "code",
   "execution_count": null,
   "metadata": {},
   "outputs": [],
   "source": [
    "data_arr=[[]for i in range(976)]\n",
    "num=0\n",
    "\n",
    "for i in data['상품명'] :\n",
    "    data_arr[data['No'].iloc[num]].append(i)\n",
    "    num+=1"
   ]
  },
  {
   "cell_type": "code",
   "execution_count": null,
   "metadata": {},
   "outputs": [],
   "source": [
    "data_arr"
   ]
  },
  {
   "cell_type": "code",
   "execution_count": null,
   "metadata": {},
   "outputs": [],
   "source": [
    "# 빈 리스트 제거\n",
    "data_arr=list(filter(None, data_arr))\n",
    "data_arr"
   ]
  },
  {
   "cell_type": "markdown",
   "metadata": {},
   "source": [
    "## 연관분석 (Apriori알고리즘 적용)"
   ]
  },
  {
   "cell_type": "code",
   "execution_count": null,
   "metadata": {},
   "outputs": [],
   "source": [
    "from mlxtend.preprocessing import TransactionEncoder\n",
    "from mlxtend.frequent_patterns import apriori, association_rules\n",
    "\n",
    "te = TransactionEncoder()\n",
    "te_ary = te.fit(data_arr).transform(data_arr)\n",
    "df = pd.DataFrame(te_ary, columns=te.columns_)"
   ]
  },
  {
   "cell_type": "code",
   "execution_count": null,
   "metadata": {},
   "outputs": [],
   "source": [
    "df"
   ]
  },
  {
   "cell_type": "code",
   "execution_count": null,
   "metadata": {},
   "outputs": [],
   "source": [
    "frequent_itemsets = apriori(df, min_support=0.02, use_colnames=True)\n",
    "frequent_itemsets"
   ]
  },
  {
   "cell_type": "code",
   "execution_count": null,
   "metadata": {},
   "outputs": [],
   "source": [
    "network_df=association_rules(frequent_itemsets, metric=\"lift\", min_threshold=1)\n",
    "network_df"
   ]
  },
  {
   "cell_type": "code",
   "execution_count": null,
   "metadata": {},
   "outputs": [],
   "source": [
    "import matplotlib.pyplot as plt\n",
    "\n",
    "#Plotting the relationship between the metrics\n",
    "\n",
    "plt.scatter(network_df['support'],network_df['confidence'],c='green')\n",
    "plt.xlabel('support')\n",
    "plt.ylabel('confidence')\n",
    "plt.show()\n",
    "plt.scatter(network_df['support'],network_df['lift'],c='green')\n",
    "plt.xlabel('support')\n",
    "plt.ylabel('lift')\n",
    "plt.show()\n",
    "plt.scatter(network_df['confidence'],network_df['lift'],c='green')\n",
    "plt.xlabel('confidence')\n",
    "plt.ylabel('lift')\n",
    "plt.show()\n",
    "plt.scatter(network_df['antecedent support'],network_df['consequent support'],c='green')\n",
    "plt.xlabel('antecedent support')\n",
    "plt.ylabel('consequent support')\n",
    "plt.show()"
   ]
  },
  {
   "cell_type": "code",
   "execution_count": null,
   "metadata": {},
   "outputs": [],
   "source": [
    "from konlpy.tag import Okt"
   ]
  },
  {
   "cell_type": "code",
   "execution_count": null,
   "metadata": {},
   "outputs": [],
   "source": [
    "from collections import Counter "
   ]
  },
  {
   "cell_type": "code",
   "execution_count": null,
   "metadata": {},
   "outputs": [],
   "source": [
    "count=[]\n",
    "count_list=[]\n",
    "\n",
    "for k in range(len(data_arr)):\n",
    "    count=Counter(data_arr[k])\n",
    "    count_list+=count"
   ]
  },
  {
   "cell_type": "code",
   "execution_count": null,
   "metadata": {},
   "outputs": [],
   "source": [
    "all_count_list=Counter(count_list)"
   ]
  },
  {
   "cell_type": "code",
   "execution_count": null,
   "metadata": {},
   "outputs": [],
   "source": [
    "print(type(all_count_list))\n",
    "print(all_count_list)\n",
    "print()\n",
    "common_cl = all_count_list.most_common(10) # top10\n",
    "print(common_cl)"
   ]
  },
  {
   "cell_type": "code",
   "execution_count": null,
   "metadata": {},
   "outputs": [],
   "source": [
    "#data_a[data_a['상품명'].str.contains('')]"
   ]
  },
  {
   "cell_type": "markdown",
   "metadata": {},
   "source": [
    "## 데이터 시각화"
   ]
  },
  {
   "cell_type": "markdown",
   "metadata": {},
   "source": [
    "## 1. 관계도"
   ]
  },
  {
   "cell_type": "code",
   "execution_count": null,
   "metadata": {},
   "outputs": [],
   "source": [
    "node_df= pd.DataFrame.from_dict(all_count_list, orient='index').reset_index()\n",
    "node_df= node_df.rename(columns={'index':'node', 0:'nodesize'})\n",
    "node_df = node_df[node_df['nodesize'] >= 40]\n",
    "node_df"
   ]
  },
  {
   "cell_type": "code",
   "execution_count": null,
   "metadata": {},
   "outputs": [],
   "source": [
    "import matplotlib.font_manager as fm\n",
    "fm._rebuild()\n",
    "path = 'C:/Windows/Fonts/malgun.ttf'\n",
    "font_name = fm.FontProperties(fname=path, size=30).get_name()"
   ]
  },
  {
   "cell_type": "code",
   "execution_count": null,
   "metadata": {},
   "outputs": [],
   "source": [
    "import networkx as nx\n",
    "\n",
    "plt.figure(figsize=(20,20))\n",
    "\n",
    "# networkx 그래프 객체를 생성합니다.\n",
    "G = nx.Graph()\n",
    "\n",
    "# node_df의 키워드 빈도수를 데이터로 하여, 네트워크 그래프의 ‘노드’ 역할을 하는 원을 생성합니다.\n",
    "for index, row in node_df.iterrows():\n",
    "    G.add_node(row['node'], nodesize=row['nodesize'])\n",
    "\n",
    "# network_df의 연관 분석 데이터를 기반으로, 네트워크 그래프의 ‘관계’ 역할을 하는 선을 생성합니다.\n",
    "for index, row in network_df.iterrows():\n",
    "    G.add_weighted_edges_from([(row['antecedents'], row['consequents'], row['support'])])\n",
    "\n",
    "# 그래프 디자인과 관련된 파라미터를 설정합니다.\n",
    "pr=nx.pagerank(G)\n",
    "nodesize=np.array([v for v in pr.values()])\n",
    "nodesize=3000*(nodesize-min(nodesize))/(max(nodesize)-min(nodesize))\n",
    "\n",
    "pos = nx.spring_layout(G, k=0.6, iterations=50)\n",
    "#sizes = [G.nodes[node]['nodesize']*25 for node in G]\n",
    "nx.draw(G, pos=pos, node_size=nodesize)\n",
    "\n",
    "nx.draw_networkx_labels(G, pos=pos, font_family=font_name, font_size=20)\n",
    "\n",
    "\n",
    "# 그래프를 출력합니다.\n",
    "ax = plt.gca()\n",
    "#plt.rc('font', family=font_name)\n",
    "plt.show()"
   ]
  },
  {
   "cell_type": "markdown",
   "metadata": {},
   "source": [
    "## 2. Top 15 frequently sold products"
   ]
  },
  {
   "cell_type": "code",
   "execution_count": null,
   "metadata": {},
   "outputs": [],
   "source": [
    "import plotly.graph_objects as go"
   ]
  },
  {
   "cell_type": "code",
   "execution_count": null,
   "metadata": {},
   "outputs": [],
   "source": [
    "def ditribution_plot(x,y,name=None,xaxis=None,yaxis=None):\n",
    "    fig = go.Figure([go.Bar(x=x, y=y)])\n",
    "\n",
    "    fig.update_layout(\n",
    "        title_text=name,\n",
    "        xaxis_title=xaxis,\n",
    "        yaxis_title=yaxis)\n",
    "    \n",
    "    fig.show()"
   ]
  },
  {
   "cell_type": "code",
   "execution_count": null,
   "metadata": {},
   "outputs": [],
   "source": [
    "x = data[\"상품명\"].value_counts()\n",
    "x = x.sort_values(ascending = False) \n",
    "x = x[:15]\n",
    "\n",
    "ditribution_plot(x=x.index, y=x.values, yaxis=\"Count\", xaxis=\"Products\")"
   ]
  },
  {
   "cell_type": "code",
   "execution_count": null,
   "metadata": {},
   "outputs": [],
   "source": []
  }
 ],
 "metadata": {
  "kernelspec": {
   "display_name": "Python 3",
   "language": "python",
   "name": "python3"
  },
  "language_info": {
   "codemirror_mode": {
    "name": "ipython",
    "version": 3
   },
   "file_extension": ".py",
   "mimetype": "text/x-python",
   "name": "python",
   "nbconvert_exporter": "python",
   "pygments_lexer": "ipython3",
   "version": "3.8.5"
  }
 },
 "nbformat": 4,
 "nbformat_minor": 4
}
